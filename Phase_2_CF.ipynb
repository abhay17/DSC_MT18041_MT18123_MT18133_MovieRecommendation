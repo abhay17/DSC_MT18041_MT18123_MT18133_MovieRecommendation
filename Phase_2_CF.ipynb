{
 "cells": [
  {
   "cell_type": "markdown",
   "metadata": {
    "colab_type": "text",
    "id": "udu4k_2KJuuF"
   },
   "source": [
    "### Type III: Collaborative Filtering based Recommendation System\n",
    "\n",
    "It works on the basic idea that people with similar characteristics have similar interests in movies. \n",
    "\n",
    "There are 2 types of Collaborative Filtering Techniques:\n",
    "\n",
    "\n",
    ">   *User-Based*:  Here we assume that similar people have similar liking. If user A and user B have watched a lot of similar movies and have rated them almost equally, then it can be inferred that their interests match. Thus we can recommend movies that A have liked to B. \n",
    "\n",
    ">   *Item-Based*: Here we take into consideration the content of movies as well and not only user similarity. Here we find those movies which the user would enjoy based on his previously rated movies.\n",
    "\n",
    "User Based Collaborative Filtering is a very common and highly used approach for movielens dataset because of the fact that:\n",
    "\n",
    "\n",
    "*   It is easy to implement.\n",
    "*   It is context independent.\n",
    "*   It gives better results that content based recommendation system.\n",
    "\n",
    "But this approach is not the best. Recommending movies without taking into consideration the content of the movie would never give best results. \n",
    "\n",
    "<a href=\"https://imgbb.com/\"><img src=\"https://i.ibb.co/C5hfzyf/Item-based-Collaborative-Filtering.png\" alt=\"Item-based-Collaborative-Filtering\" border=\"0\"></a>\n",
    "\n",
    "Thus we tried to implement an **item based recommendation system** with our movies dataset.\n",
    "\n",
    "Firstly, we start of by reading the data. To find similarity between items, we are using 5 different types of feature combinations:\n",
    "\n",
    "\n",
    "1.   Genre, Crew\n",
    "2.   Cast, Keywords\n",
    "3.   Genre, Crew, Production Countries\n",
    "4.   Genre, Production Countries, Keywords\n",
    "5.   Genre, Crew, Production Countries, Keywords\n",
    "\n",
    "The above combinations were made on our basic understanding of what all features influence our liking for a movie.\n",
    "\n",
    "The data is combined from multiple files: keywords.csv, credits.csv, movies_metadata.csv, ratings.csv\n",
    "\n",
    "\n"
   ]
  },
  {
   "cell_type": "markdown",
   "metadata": {
    "colab_type": "text",
    "id": "eeHo6EUEZa3u"
   },
   "source": [
    "#### Mount & Imports"
   ]
  },
  {
   "cell_type": "code",
   "execution_count": 0,
   "metadata": {
    "colab": {
     "base_uri": "https://localhost:8080/",
     "height": 35
    },
    "colab_type": "code",
    "id": "K6N4PdwEZaB-",
    "outputId": "5e6d3e2c-fd94-408c-86ad-527cc6b15b66"
   },
   "outputs": [
    {
     "name": "stdout",
     "output_type": "stream",
     "text": [
      "Drive already mounted at /content/drive; to attempt to forcibly remount, call drive.mount(\"/content/drive\", force_remount=True).\n"
     ]
    }
   ],
   "source": [
    "from google.colab import drive\n",
    "drive.mount('/content/drive')"
   ]
  },
  {
   "cell_type": "code",
   "execution_count": 0,
   "metadata": {
    "colab": {
     "base_uri": "https://localhost:8080/",
     "height": 35
    },
    "colab_type": "code",
    "id": "wY_efCsNZ7Oh",
    "outputId": "ecd71dd7-1428-4131-cf3c-655178ea5cf8"
   },
   "outputs": [
    {
     "name": "stdout",
     "output_type": "stream",
     "text": [
      "/content/drive/My Drive/DataScience Project/the-movies-dataset\n"
     ]
    }
   ],
   "source": [
    "cd /content/drive/My\\ Drive/DataScience\\ Project/the-movies-dataset"
   ]
  },
  {
   "cell_type": "code",
   "execution_count": 0,
   "metadata": {
    "colab": {
     "base_uri": "https://localhost:8080/",
     "height": 89
    },
    "colab_type": "code",
    "id": "RyGohitHaf-c",
    "outputId": "19db9d14-460f-4404-d3c0-4bc09fccbcf1"
   },
   "outputs": [
    {
     "name": "stdout",
     "output_type": "stream",
     "text": [
      " BestFeatureVector.csv    Errors1.csv    links_small.csv\n",
      " cosSimScore.csv          Errors-S.csv   movies_metadata.csv\n",
      " credits.csv              keywords.csv   ratings.csv\n",
      "'Customer Feedback.csv'   links.csv      ratings_small.csv\n"
     ]
    }
   ],
   "source": [
    "ls"
   ]
  },
  {
   "cell_type": "code",
   "execution_count": 0,
   "metadata": {
    "colab": {
     "base_uri": "https://localhost:8080/",
     "height": 53
    },
    "colab_type": "code",
    "id": "fCUxLFZBZi19",
    "outputId": "a577c4f5-4d12-4487-a08f-ce205cdea5de"
   },
   "outputs": [
    {
     "name": "stdout",
     "output_type": "stream",
     "text": [
      "[nltk_data] Downloading package stopwords to /root/nltk_data...\n",
      "[nltk_data]   Package stopwords is already up-to-date!\n"
     ]
    }
   ],
   "source": [
    "from sklearn.metrics.pairwise import cosine_similarity\n",
    "from sklearn.model_selection import train_test_split\n",
    "from sklearn.metrics import mean_absolute_error\n",
    "from sklearn.neighbors import KNeighborsRegressor\n",
    "from sklearn.metrics import mean_squared_error\n",
    "from sklearn.preprocessing import MultiLabelBinarizer\n",
    "from nltk.corpus import stopwords\n",
    "from ast import literal_eval\n",
    "import pandas as pd, numpy as np,matplotlib.pyplot as plt\n",
    "import nltk, re, string\n",
    "from prettytable import PrettyTable\n",
    "from prettytable import from_csv\n",
    "nltk.download('stopwords')\n",
    "stopWord = set(stopwords.words('english'))"
   ]
  },
  {
   "cell_type": "markdown",
   "metadata": {
    "colab_type": "text",
    "id": "2TIq5cEIo9DO"
   },
   "source": [
    "#### Functions"
   ]
  },
  {
   "cell_type": "code",
   "execution_count": 0,
   "metadata": {
    "colab": {},
    "colab_type": "code",
    "id": "CmMsrBv0o9iI"
   },
   "outputs": [],
   "source": [
    "def removeStopWord(tokens): #Function removing stop words and punctuation\n",
    "    global stopWord\n",
    "    low = tokens.lower()\n",
    "    cl = re.compile('_') #remove punctuation\n",
    "    loweredTokens = re.split(';|_|!|#|@|$|%|\\^|&|\\*|\\(|\\)|:|\\'|\\\"| |\\.|\\,|',low)\n",
    "    fr = []\n",
    "    for i in loweredTokens:\n",
    "        if(i not in stopWord):\n",
    "            fr.append(i)\n",
    "    return (' ').join(fr)"
   ]
  },
  {
   "cell_type": "code",
   "execution_count": 0,
   "metadata": {
    "colab": {},
    "colab_type": "code",
    "id": "L65rJyoSLYNR"
   },
   "outputs": [],
   "source": [
    "def binarise(y_train): #Function to create a binary vector for features\n",
    "  mlb = MultiLabelBinarizer()\n",
    "  y_Bin = mlb.fit_transform(y_train)\n",
    "  clsNames = mlb.classes_\n",
    "  return y_Bin, clsNames"
   ]
  },
  {
   "cell_type": "code",
   "execution_count": 0,
   "metadata": {
    "colab": {},
    "colab_type": "code",
    "id": "eZvBP4sKLZOv"
   },
   "outputs": [],
   "source": [
    "def vectorForm(df,col): #Creates feature vector\n",
    "    temp = [[] for i in range(len(df))]\n",
    "    colNames = []\n",
    "    for i in col:\n",
    "        val,colName = binarise(df[i])\n",
    "        temp = np.hstack((temp,val))\n",
    "        colNames.extend(colName)\n",
    "    vectDf = pd.DataFrame(temp,columns=colNames)\n",
    "    finlVec = pd.concat([vectDf,df.rating],axis=1)\n",
    "    return finlVec"
   ]
  },
  {
   "cell_type": "code",
   "execution_count": 0,
   "metadata": {
    "colab": {},
    "colab_type": "code",
    "id": "Pz-rQJiveHoA"
   },
   "outputs": [],
   "source": [
    "def recommend(test,r,sim,mu,title,n): #Recommends top n movies\n",
    "    predRating = dict()\n",
    "    for i in test.index:\n",
    "        sum1 = 0\n",
    "        sum2 = 0\n",
    "        for j in test.index:\n",
    "            sum1 += (sim[i][j]*(r[j]-mu))\n",
    "            sum2 += sim[i][j]\n",
    "        predRating[i] = round(mu + (sum1/sum2),2)\n",
    "    sortedScore = sorted(predRating.items(), key=lambda x: x[1],reverse=True) #Sorting in decreasing order on the basis of similarity score\n",
    "    topScores = sortedScore[1:n+1]\n",
    "    movies = [i[0] for i in topScores]\n",
    "    return list(title[movies])"
   ]
  },
  {
   "cell_type": "markdown",
   "metadata": {
    "colab_type": "text",
    "id": "e3Va3QBr-I_C"
   },
   "source": [
    "#### Reading Data and preprocessing"
   ]
  },
  {
   "cell_type": "code",
   "execution_count": 0,
   "metadata": {
    "colab": {
     "base_uri": "https://localhost:8080/",
     "height": 73
    },
    "colab_type": "code",
    "id": "0UGwWtR8axEi",
    "outputId": "cff7de06-96fc-4c4d-fe6b-91a19ec01e5e"
   },
   "outputs": [
    {
     "name": "stderr",
     "output_type": "stream",
     "text": [
      "/usr/local/lib/python3.6/dist-packages/IPython/core/interactiveshell.py:2718: DtypeWarning: Columns (10) have mixed types. Specify dtype option on import or set low_memory=False.\n",
      "  interactivity=interactivity, compiler=compiler, result=result)\n"
     ]
    }
   ],
   "source": [
    "keyDf = pd.read_csv('keywords.csv')\n",
    "credDf = pd.read_csv('credits.csv')\n",
    "metaDf = pd.read_csv('movies_metadata.csv')\n",
    "ratDf = pd.read_csv('ratings.csv')"
   ]
  },
  {
   "cell_type": "code",
   "execution_count": 0,
   "metadata": {
    "colab": {
     "base_uri": "https://localhost:8080/",
     "height": 35
    },
    "colab_type": "code",
    "id": "okT63mNbbiyp",
    "outputId": "1b047cdd-df53-4505-8821-5ee2277431b0"
   },
   "outputs": [
    {
     "name": "stdout",
     "output_type": "stream",
     "text": [
      "(46419, 2) (45476, 3) (45466, 24) (26024289, 4)\n"
     ]
    }
   ],
   "source": [
    "print(keyDf.shape,credDf.shape,metaDf.shape,ratDf.shape)"
   ]
  },
  {
   "cell_type": "code",
   "execution_count": 0,
   "metadata": {
    "colab": {
     "base_uri": "https://localhost:8080/",
     "height": 204
    },
    "colab_type": "code",
    "id": "xxZREOqLbULh",
    "outputId": "5246e649-e08c-4e0c-b062-4025ab770330"
   },
   "outputs": [
    {
     "data": {
      "text/html": [
       "<div>\n",
       "<style scoped>\n",
       "    .dataframe tbody tr th:only-of-type {\n",
       "        vertical-align: middle;\n",
       "    }\n",
       "\n",
       "    .dataframe tbody tr th {\n",
       "        vertical-align: top;\n",
       "    }\n",
       "\n",
       "    .dataframe thead th {\n",
       "        text-align: right;\n",
       "    }\n",
       "</style>\n",
       "<table border=\"1\" class=\"dataframe\">\n",
       "  <thead>\n",
       "    <tr style=\"text-align: right;\">\n",
       "      <th></th>\n",
       "      <th>userId</th>\n",
       "      <th>movieId</th>\n",
       "      <th>rating</th>\n",
       "      <th>timestamp</th>\n",
       "    </tr>\n",
       "  </thead>\n",
       "  <tbody>\n",
       "    <tr>\n",
       "      <th>0</th>\n",
       "      <td>1</td>\n",
       "      <td>110</td>\n",
       "      <td>1.0</td>\n",
       "      <td>1425941529</td>\n",
       "    </tr>\n",
       "    <tr>\n",
       "      <th>1</th>\n",
       "      <td>1</td>\n",
       "      <td>147</td>\n",
       "      <td>4.5</td>\n",
       "      <td>1425942435</td>\n",
       "    </tr>\n",
       "    <tr>\n",
       "      <th>2</th>\n",
       "      <td>1</td>\n",
       "      <td>858</td>\n",
       "      <td>5.0</td>\n",
       "      <td>1425941523</td>\n",
       "    </tr>\n",
       "    <tr>\n",
       "      <th>3</th>\n",
       "      <td>1</td>\n",
       "      <td>1221</td>\n",
       "      <td>5.0</td>\n",
       "      <td>1425941546</td>\n",
       "    </tr>\n",
       "    <tr>\n",
       "      <th>4</th>\n",
       "      <td>1</td>\n",
       "      <td>1246</td>\n",
       "      <td>5.0</td>\n",
       "      <td>1425941556</td>\n",
       "    </tr>\n",
       "  </tbody>\n",
       "</table>\n",
       "</div>"
      ],
      "text/plain": [
       "   userId  movieId  rating   timestamp\n",
       "0       1      110     1.0  1425941529\n",
       "1       1      147     4.5  1425942435\n",
       "2       1      858     5.0  1425941523\n",
       "3       1     1221     5.0  1425941546\n",
       "4       1     1246     5.0  1425941556"
      ]
     },
     "execution_count": 11,
     "metadata": {
      "tags": []
     },
     "output_type": "execute_result"
    }
   ],
   "source": [
    "ratDf.head()"
   ]
  },
  {
   "cell_type": "code",
   "execution_count": 0,
   "metadata": {
    "colab": {},
    "colab_type": "code",
    "id": "GlbzD7hNepRa"
   },
   "outputs": [],
   "source": [
    "ratDf.rename(columns = {\"movieId\": \"id\"},inplace=True) #Renaming movieId col to id for merging"
   ]
  },
  {
   "cell_type": "code",
   "execution_count": 0,
   "metadata": {
    "colab": {
     "base_uri": "https://localhost:8080/",
     "height": 35
    },
    "colab_type": "code",
    "id": "WoRWxbKHe8Po",
    "outputId": "47142894-5cd0-4013-9312-3c9f7dc66cfc"
   },
   "outputs": [
    {
     "data": {
      "text/plain": [
       "Index(['userId', 'id', 'rating', 'timestamp'], dtype='object')"
      ]
     },
     "execution_count": 13,
     "metadata": {
      "tags": []
     },
     "output_type": "execute_result"
    }
   ],
   "source": [
    "ratDf.columns"
   ]
  },
  {
   "cell_type": "code",
   "execution_count": 0,
   "metadata": {
    "colab": {
     "base_uri": "https://localhost:8080/",
     "height": 301
    },
    "colab_type": "code",
    "id": "6ocWyrZXba5g",
    "outputId": "63524ced-6573-4ee8-dcf0-ce190eba7be6"
   },
   "outputs": [
    {
     "data": {
      "text/html": [
       "<div>\n",
       "<style scoped>\n",
       "    .dataframe tbody tr th:only-of-type {\n",
       "        vertical-align: middle;\n",
       "    }\n",
       "\n",
       "    .dataframe tbody tr th {\n",
       "        vertical-align: top;\n",
       "    }\n",
       "\n",
       "    .dataframe thead th {\n",
       "        text-align: right;\n",
       "    }\n",
       "</style>\n",
       "<table border=\"1\" class=\"dataframe\">\n",
       "  <thead>\n",
       "    <tr style=\"text-align: right;\">\n",
       "      <th></th>\n",
       "      <th>adult</th>\n",
       "      <th>belongs_to_collection</th>\n",
       "      <th>budget</th>\n",
       "      <th>genres</th>\n",
       "      <th>homepage</th>\n",
       "      <th>id</th>\n",
       "      <th>imdb_id</th>\n",
       "      <th>original_language</th>\n",
       "      <th>original_title</th>\n",
       "      <th>overview</th>\n",
       "      <th>popularity</th>\n",
       "      <th>poster_path</th>\n",
       "      <th>production_companies</th>\n",
       "      <th>production_countries</th>\n",
       "      <th>release_date</th>\n",
       "      <th>revenue</th>\n",
       "      <th>runtime</th>\n",
       "      <th>spoken_languages</th>\n",
       "      <th>status</th>\n",
       "      <th>tagline</th>\n",
       "      <th>title</th>\n",
       "      <th>video</th>\n",
       "      <th>vote_average</th>\n",
       "      <th>vote_count</th>\n",
       "    </tr>\n",
       "  </thead>\n",
       "  <tbody>\n",
       "    <tr>\n",
       "      <th>0</th>\n",
       "      <td>False</td>\n",
       "      <td>{'id': 10194, 'name': 'Toy Story Collection', ...</td>\n",
       "      <td>30000000</td>\n",
       "      <td>[{'id': 16, 'name': 'Animation'}, {'id': 35, '...</td>\n",
       "      <td>http://toystory.disney.com/toy-story</td>\n",
       "      <td>862</td>\n",
       "      <td>tt0114709</td>\n",
       "      <td>en</td>\n",
       "      <td>Toy Story</td>\n",
       "      <td>Led by Woody, Andy's toys live happily in his ...</td>\n",
       "      <td>21.9469</td>\n",
       "      <td>/rhIRbceoE9lR4veEXuwCC2wARtG.jpg</td>\n",
       "      <td>[{'name': 'Pixar Animation Studios', 'id': 3}]</td>\n",
       "      <td>[{'iso_3166_1': 'US', 'name': 'United States o...</td>\n",
       "      <td>1995-10-30</td>\n",
       "      <td>373554033.0</td>\n",
       "      <td>81.0</td>\n",
       "      <td>[{'iso_639_1': 'en', 'name': 'English'}]</td>\n",
       "      <td>Released</td>\n",
       "      <td>NaN</td>\n",
       "      <td>Toy Story</td>\n",
       "      <td>False</td>\n",
       "      <td>7.7</td>\n",
       "      <td>5415.0</td>\n",
       "    </tr>\n",
       "    <tr>\n",
       "      <th>1</th>\n",
       "      <td>False</td>\n",
       "      <td>NaN</td>\n",
       "      <td>65000000</td>\n",
       "      <td>[{'id': 12, 'name': 'Adventure'}, {'id': 14, '...</td>\n",
       "      <td>NaN</td>\n",
       "      <td>8844</td>\n",
       "      <td>tt0113497</td>\n",
       "      <td>en</td>\n",
       "      <td>Jumanji</td>\n",
       "      <td>When siblings Judy and Peter discover an encha...</td>\n",
       "      <td>17.0155</td>\n",
       "      <td>/vzmL6fP7aPKNKPRTFnZmiUfciyV.jpg</td>\n",
       "      <td>[{'name': 'TriStar Pictures', 'id': 559}, {'na...</td>\n",
       "      <td>[{'iso_3166_1': 'US', 'name': 'United States o...</td>\n",
       "      <td>1995-12-15</td>\n",
       "      <td>262797249.0</td>\n",
       "      <td>104.0</td>\n",
       "      <td>[{'iso_639_1': 'en', 'name': 'English'}, {'iso...</td>\n",
       "      <td>Released</td>\n",
       "      <td>Roll the dice and unleash the excitement!</td>\n",
       "      <td>Jumanji</td>\n",
       "      <td>False</td>\n",
       "      <td>6.9</td>\n",
       "      <td>2413.0</td>\n",
       "    </tr>\n",
       "  </tbody>\n",
       "</table>\n",
       "</div>"
      ],
      "text/plain": [
       "   adult  ... vote_count\n",
       "0  False  ...     5415.0\n",
       "1  False  ...     2413.0\n",
       "\n",
       "[2 rows x 24 columns]"
      ]
     },
     "execution_count": 14,
     "metadata": {
      "tags": []
     },
     "output_type": "execute_result"
    }
   ],
   "source": [
    "metaDf.head(2)"
   ]
  },
  {
   "cell_type": "code",
   "execution_count": 0,
   "metadata": {
    "colab": {
     "base_uri": "https://localhost:8080/",
     "height": 204
    },
    "colab_type": "code",
    "id": "quXCexRpbeVj",
    "outputId": "d07e5a95-113c-4395-983f-14e9e2033216"
   },
   "outputs": [
    {
     "data": {
      "text/html": [
       "<div>\n",
       "<style scoped>\n",
       "    .dataframe tbody tr th:only-of-type {\n",
       "        vertical-align: middle;\n",
       "    }\n",
       "\n",
       "    .dataframe tbody tr th {\n",
       "        vertical-align: top;\n",
       "    }\n",
       "\n",
       "    .dataframe thead th {\n",
       "        text-align: right;\n",
       "    }\n",
       "</style>\n",
       "<table border=\"1\" class=\"dataframe\">\n",
       "  <thead>\n",
       "    <tr style=\"text-align: right;\">\n",
       "      <th></th>\n",
       "      <th>id</th>\n",
       "      <th>keywords</th>\n",
       "    </tr>\n",
       "  </thead>\n",
       "  <tbody>\n",
       "    <tr>\n",
       "      <th>0</th>\n",
       "      <td>862</td>\n",
       "      <td>[{'id': 931, 'name': 'jealousy'}, {'id': 4290,...</td>\n",
       "    </tr>\n",
       "    <tr>\n",
       "      <th>1</th>\n",
       "      <td>8844</td>\n",
       "      <td>[{'id': 10090, 'name': 'board game'}, {'id': 1...</td>\n",
       "    </tr>\n",
       "    <tr>\n",
       "      <th>2</th>\n",
       "      <td>15602</td>\n",
       "      <td>[{'id': 1495, 'name': 'fishing'}, {'id': 12392...</td>\n",
       "    </tr>\n",
       "    <tr>\n",
       "      <th>3</th>\n",
       "      <td>31357</td>\n",
       "      <td>[{'id': 818, 'name': 'based on novel'}, {'id':...</td>\n",
       "    </tr>\n",
       "    <tr>\n",
       "      <th>4</th>\n",
       "      <td>11862</td>\n",
       "      <td>[{'id': 1009, 'name': 'baby'}, {'id': 1599, 'n...</td>\n",
       "    </tr>\n",
       "  </tbody>\n",
       "</table>\n",
       "</div>"
      ],
      "text/plain": [
       "      id                                           keywords\n",
       "0    862  [{'id': 931, 'name': 'jealousy'}, {'id': 4290,...\n",
       "1   8844  [{'id': 10090, 'name': 'board game'}, {'id': 1...\n",
       "2  15602  [{'id': 1495, 'name': 'fishing'}, {'id': 12392...\n",
       "3  31357  [{'id': 818, 'name': 'based on novel'}, {'id':...\n",
       "4  11862  [{'id': 1009, 'name': 'baby'}, {'id': 1599, 'n..."
      ]
     },
     "execution_count": 15,
     "metadata": {
      "tags": []
     },
     "output_type": "execute_result"
    }
   ],
   "source": [
    "keyDf.head()"
   ]
  },
  {
   "cell_type": "code",
   "execution_count": 0,
   "metadata": {
    "colab": {
     "base_uri": "https://localhost:8080/",
     "height": 204
    },
    "colab_type": "code",
    "id": "y0OzAy8wbzeA",
    "outputId": "443f9a9d-70e3-4a05-d290-1db3cafb45a8"
   },
   "outputs": [
    {
     "data": {
      "text/html": [
       "<div>\n",
       "<style scoped>\n",
       "    .dataframe tbody tr th:only-of-type {\n",
       "        vertical-align: middle;\n",
       "    }\n",
       "\n",
       "    .dataframe tbody tr th {\n",
       "        vertical-align: top;\n",
       "    }\n",
       "\n",
       "    .dataframe thead th {\n",
       "        text-align: right;\n",
       "    }\n",
       "</style>\n",
       "<table border=\"1\" class=\"dataframe\">\n",
       "  <thead>\n",
       "    <tr style=\"text-align: right;\">\n",
       "      <th></th>\n",
       "      <th>cast</th>\n",
       "      <th>crew</th>\n",
       "      <th>id</th>\n",
       "    </tr>\n",
       "  </thead>\n",
       "  <tbody>\n",
       "    <tr>\n",
       "      <th>0</th>\n",
       "      <td>[{'cast_id': 14, 'character': 'Woody (voice)',...</td>\n",
       "      <td>[{'credit_id': '52fe4284c3a36847f8024f49', 'de...</td>\n",
       "      <td>862</td>\n",
       "    </tr>\n",
       "    <tr>\n",
       "      <th>1</th>\n",
       "      <td>[{'cast_id': 1, 'character': 'Alan Parrish', '...</td>\n",
       "      <td>[{'credit_id': '52fe44bfc3a36847f80a7cd1', 'de...</td>\n",
       "      <td>8844</td>\n",
       "    </tr>\n",
       "    <tr>\n",
       "      <th>2</th>\n",
       "      <td>[{'cast_id': 2, 'character': 'Max Goldman', 'c...</td>\n",
       "      <td>[{'credit_id': '52fe466a9251416c75077a89', 'de...</td>\n",
       "      <td>15602</td>\n",
       "    </tr>\n",
       "    <tr>\n",
       "      <th>3</th>\n",
       "      <td>[{'cast_id': 1, 'character': \"Savannah 'Vannah...</td>\n",
       "      <td>[{'credit_id': '52fe44779251416c91011acb', 'de...</td>\n",
       "      <td>31357</td>\n",
       "    </tr>\n",
       "    <tr>\n",
       "      <th>4</th>\n",
       "      <td>[{'cast_id': 1, 'character': 'George Banks', '...</td>\n",
       "      <td>[{'credit_id': '52fe44959251416c75039ed7', 'de...</td>\n",
       "      <td>11862</td>\n",
       "    </tr>\n",
       "  </tbody>\n",
       "</table>\n",
       "</div>"
      ],
      "text/plain": [
       "                                                cast  ...     id\n",
       "0  [{'cast_id': 14, 'character': 'Woody (voice)',...  ...    862\n",
       "1  [{'cast_id': 1, 'character': 'Alan Parrish', '...  ...   8844\n",
       "2  [{'cast_id': 2, 'character': 'Max Goldman', 'c...  ...  15602\n",
       "3  [{'cast_id': 1, 'character': \"Savannah 'Vannah...  ...  31357\n",
       "4  [{'cast_id': 1, 'character': 'George Banks', '...  ...  11862\n",
       "\n",
       "[5 rows x 3 columns]"
      ]
     },
     "execution_count": 16,
     "metadata": {
      "tags": []
     },
     "output_type": "execute_result"
    }
   ],
   "source": [
    "credDf.head()"
   ]
  },
  {
   "cell_type": "markdown",
   "metadata": {
    "colab_type": "text",
    "id": "n2mev9Vf-SEA"
   },
   "source": [
    "> Info about DF"
   ]
  },
  {
   "cell_type": "code",
   "execution_count": 0,
   "metadata": {
    "colab": {
     "base_uri": "https://localhost:8080/",
     "height": 1000
    },
    "colab_type": "code",
    "id": "42nt-1TXfulb",
    "outputId": "881522af-7d01-4ee4-d18c-729425f26636"
   },
   "outputs": [
    {
     "name": "stdout",
     "output_type": "stream",
     "text": [
      "<class 'pandas.core.frame.DataFrame'>\n",
      "RangeIndex: 46419 entries, 0 to 46418\n",
      "Data columns (total 2 columns):\n",
      "id          46419 non-null int64\n",
      "keywords    46419 non-null object\n",
      "dtypes: int64(1), object(1)\n",
      "memory usage: 725.4+ KB\n",
      "None\n",
      "\n",
      "<class 'pandas.core.frame.DataFrame'>\n",
      "RangeIndex: 45476 entries, 0 to 45475\n",
      "Data columns (total 3 columns):\n",
      "cast    45476 non-null object\n",
      "crew    45476 non-null object\n",
      "id      45476 non-null int64\n",
      "dtypes: int64(1), object(2)\n",
      "memory usage: 1.0+ MB\n",
      "None\n",
      "\n",
      "<class 'pandas.core.frame.DataFrame'>\n",
      "RangeIndex: 45466 entries, 0 to 45465\n",
      "Data columns (total 24 columns):\n",
      "adult                    45466 non-null object\n",
      "belongs_to_collection    4494 non-null object\n",
      "budget                   45466 non-null object\n",
      "genres                   45466 non-null object\n",
      "homepage                 7782 non-null object\n",
      "id                       45466 non-null object\n",
      "imdb_id                  45449 non-null object\n",
      "original_language        45455 non-null object\n",
      "original_title           45466 non-null object\n",
      "overview                 44512 non-null object\n",
      "popularity               45461 non-null object\n",
      "poster_path              45080 non-null object\n",
      "production_companies     45463 non-null object\n",
      "production_countries     45463 non-null object\n",
      "release_date             45379 non-null object\n",
      "revenue                  45460 non-null float64\n",
      "runtime                  45203 non-null float64\n",
      "spoken_languages         45460 non-null object\n",
      "status                   45379 non-null object\n",
      "tagline                  20412 non-null object\n",
      "title                    45460 non-null object\n",
      "video                    45460 non-null object\n",
      "vote_average             45460 non-null float64\n",
      "vote_count               45460 non-null float64\n",
      "dtypes: float64(4), object(20)\n",
      "memory usage: 8.3+ MB\n",
      "None\n",
      "\n",
      "<class 'pandas.core.frame.DataFrame'>\n",
      "RangeIndex: 26024289 entries, 0 to 26024288\n",
      "Data columns (total 4 columns):\n",
      "userId       int64\n",
      "id           int64\n",
      "rating       float64\n",
      "timestamp    int64\n",
      "dtypes: float64(1), int64(3)\n",
      "memory usage: 794.2 MB\n",
      "None\n"
     ]
    }
   ],
   "source": [
    "print(keyDf.info())\n",
    "print()\n",
    "print(credDf.info())\n",
    "print()\n",
    "print(metaDf.info())\n",
    "print()\n",
    "print(ratDf.info())"
   ]
  },
  {
   "cell_type": "markdown",
   "metadata": {
    "colab_type": "text",
    "id": "Otj9c3ng-X0K"
   },
   "source": [
    "> Converting int to str"
   ]
  },
  {
   "cell_type": "code",
   "execution_count": 0,
   "metadata": {
    "colab": {},
    "colab_type": "code",
    "id": "pndkKz3tb6CG"
   },
   "outputs": [],
   "source": [
    "keyDf.id = keyDf.id.apply(str)\n",
    "credDf.id = credDf.id.apply(str)\n",
    "ratDf.id = ratDf.id.apply(str)"
   ]
  },
  {
   "cell_type": "markdown",
   "metadata": {
    "colab_type": "text",
    "id": "wLr10efW-dEH"
   },
   "source": [
    "> Sampling of data"
   ]
  },
  {
   "cell_type": "code",
   "execution_count": 0,
   "metadata": {
    "colab": {
     "base_uri": "https://localhost:8080/",
     "height": 294
    },
    "colab_type": "code",
    "id": "KLpyF49VhmEC",
    "outputId": "28441cb4-6b46-474a-9acb-6256f5f99cd3"
   },
   "outputs": [
    {
     "name": "stderr",
     "output_type": "stream",
     "text": [
      "/usr/local/lib/python3.6/dist-packages/pandas/core/frame.py:4117: SettingWithCopyWarning: \n",
      "A value is trying to be set on a copy of a slice from a DataFrame\n",
      "\n",
      "See the caveats in the documentation: http://pandas.pydata.org/pandas-docs/stable/user_guide/indexing.html#returning-a-view-versus-a-copy\n",
      "  errors=errors,\n"
     ]
    },
    {
     "data": {
      "text/html": [
       "<div>\n",
       "<style scoped>\n",
       "    .dataframe tbody tr th:only-of-type {\n",
       "        vertical-align: middle;\n",
       "    }\n",
       "\n",
       "    .dataframe tbody tr th {\n",
       "        vertical-align: top;\n",
       "    }\n",
       "\n",
       "    .dataframe thead th {\n",
       "        text-align: right;\n",
       "    }\n",
       "</style>\n",
       "<table border=\"1\" class=\"dataframe\">\n",
       "  <thead>\n",
       "    <tr style=\"text-align: right;\">\n",
       "      <th></th>\n",
       "      <th>id</th>\n",
       "      <th>rating</th>\n",
       "    </tr>\n",
       "  </thead>\n",
       "  <tbody>\n",
       "    <tr>\n",
       "      <th>0</th>\n",
       "      <td>1</td>\n",
       "      <td>4.0</td>\n",
       "    </tr>\n",
       "    <tr>\n",
       "      <th>1</th>\n",
       "      <td>2</td>\n",
       "      <td>3.0</td>\n",
       "    </tr>\n",
       "    <tr>\n",
       "      <th>2</th>\n",
       "      <td>6</td>\n",
       "      <td>4.0</td>\n",
       "    </tr>\n",
       "    <tr>\n",
       "      <th>3</th>\n",
       "      <td>9</td>\n",
       "      <td>2.5</td>\n",
       "    </tr>\n",
       "    <tr>\n",
       "      <th>4</th>\n",
       "      <td>10</td>\n",
       "      <td>3.0</td>\n",
       "    </tr>\n",
       "  </tbody>\n",
       "</table>\n",
       "</div>"
      ],
      "text/plain": [
       "   id  rating\n",
       "0   1     4.0\n",
       "1   2     3.0\n",
       "2   6     4.0\n",
       "3   9     2.5\n",
       "4  10     3.0"
      ]
     },
     "execution_count": 19,
     "metadata": {
      "tags": []
     },
     "output_type": "execute_result"
    }
   ],
   "source": [
    "maxUserRat = list(ratDf.userId[ratDf.userId == ratDf.userId.value_counts().index[0]].index) #Picking users with maximum ratings count i.e. 45811\n",
    "sampleRatDf = ratDf.iloc[maxUserRat,:] #Sampling maximum users data based on ratings\n",
    "sampleRatDf.drop(['userId','timestamp'],axis=1,inplace=True) #Dropping off timestamp & userId\n",
    "sampleRatDf.index = range(len(sampleRatDf)) #Resetting indexes\n",
    "sampleRatDf.head()"
   ]
  },
  {
   "cell_type": "markdown",
   "metadata": {
    "colab_type": "text",
    "id": "aIfrY2KY-hMR"
   },
   "source": [
    "> Merging on movieid column"
   ]
  },
  {
   "cell_type": "code",
   "execution_count": 0,
   "metadata": {
    "colab": {},
    "colab_type": "code",
    "id": "ESwGS1Ukc1Sj"
   },
   "outputs": [],
   "source": [
    "merKeyDf = metaDf.merge(keyDf,on='id')\n",
    "merCredDf = merKeyDf.merge(credDf,on='id')\n",
    "mergedDf = merCredDf.merge(sampleRatDf,on='id')"
   ]
  },
  {
   "cell_type": "code",
   "execution_count": 0,
   "metadata": {
    "colab": {
     "base_uri": "https://localhost:8080/",
     "height": 35
    },
    "colab_type": "code",
    "id": "LtVj9xHbc4oT",
    "outputId": "1171b0cf-e290-4174-9aee-e7dadf1dd7bc"
   },
   "outputs": [
    {
     "data": {
      "text/plain": [
       "(3634, 28)"
      ]
     },
     "execution_count": 21,
     "metadata": {
      "tags": []
     },
     "output_type": "execute_result"
    }
   ],
   "source": [
    "mergedDf.shape"
   ]
  },
  {
   "cell_type": "code",
   "execution_count": 0,
   "metadata": {
    "colab": {
     "base_uri": "https://localhost:8080/",
     "height": 251
    },
    "colab_type": "code",
    "id": "hWbuDBrOhgPE",
    "outputId": "1c73c96d-c18f-4f47-f42e-3f92e7d9cc23"
   },
   "outputs": [
    {
     "name": "stdout",
     "output_type": "stream",
     "text": [
      "<class 'pandas.core.frame.DataFrame'>\n",
      "Int64Index: 3634 entries, 0 to 3633\n",
      "Data columns (total 8 columns):\n",
      "id                      3634 non-null object\n",
      "title                   3634 non-null object\n",
      "genres                  3634 non-null object\n",
      "keywords                3634 non-null object\n",
      "cast                    3634 non-null object\n",
      "crew                    3634 non-null object\n",
      "production_countries    3634 non-null object\n",
      "rating                  3634 non-null float64\n",
      "dtypes: float64(1), object(7)\n",
      "memory usage: 255.5+ KB\n"
     ]
    }
   ],
   "source": [
    "finalDf = mergedDf[['id','title','genres','keywords','cast','crew','production_countries','rating']]\n",
    "finalDf.info()"
   ]
  },
  {
   "cell_type": "markdown",
   "metadata": {
    "colab_type": "text",
    "id": "G6khgEPC-nQa"
   },
   "source": [
    "> Preprocessing (Converting structures to list & removing stop words or punctutation)"
   ]
  },
  {
   "cell_type": "code",
   "execution_count": 0,
   "metadata": {
    "colab": {
     "base_uri": "https://localhost:8080/",
     "height": 593
    },
    "colab_type": "code",
    "id": "9JhQ7At3l7fc",
    "outputId": "48b19a92-6604-470b-9bed-2b9bd41305ff"
   },
   "outputs": [
    {
     "name": "stderr",
     "output_type": "stream",
     "text": [
      "/usr/lib/python3.6/re.py:212: FutureWarning: split() requires a non-empty pattern match.\n",
      "  return _compile(pattern, flags).split(string, maxsplit)\n",
      "/usr/local/lib/python3.6/dist-packages/ipykernel_launcher.py:1: SettingWithCopyWarning: \n",
      "A value is trying to be set on a copy of a slice from a DataFrame.\n",
      "Try using .loc[row_indexer,col_indexer] = value instead\n",
      "\n",
      "See the caveats in the documentation: http://pandas.pydata.org/pandas-docs/stable/user_guide/indexing.html#returning-a-view-versus-a-copy\n",
      "  \"\"\"Entry point for launching an IPython kernel.\n",
      "/usr/local/lib/python3.6/dist-packages/ipykernel_launcher.py:2: SettingWithCopyWarning: \n",
      "A value is trying to be set on a copy of a slice from a DataFrame.\n",
      "Try using .loc[row_indexer,col_indexer] = value instead\n",
      "\n",
      "See the caveats in the documentation: http://pandas.pydata.org/pandas-docs/stable/user_guide/indexing.html#returning-a-view-versus-a-copy\n",
      "  \n",
      "/usr/local/lib/python3.6/dist-packages/ipykernel_launcher.py:3: SettingWithCopyWarning: \n",
      "A value is trying to be set on a copy of a slice from a DataFrame.\n",
      "Try using .loc[row_indexer,col_indexer] = value instead\n",
      "\n",
      "See the caveats in the documentation: http://pandas.pydata.org/pandas-docs/stable/user_guide/indexing.html#returning-a-view-versus-a-copy\n",
      "  This is separate from the ipykernel package so we can avoid doing imports until\n",
      "/usr/local/lib/python3.6/dist-packages/ipykernel_launcher.py:4: SettingWithCopyWarning: \n",
      "A value is trying to be set on a copy of a slice from a DataFrame.\n",
      "Try using .loc[row_indexer,col_indexer] = value instead\n",
      "\n",
      "See the caveats in the documentation: http://pandas.pydata.org/pandas-docs/stable/user_guide/indexing.html#returning-a-view-versus-a-copy\n",
      "  after removing the cwd from sys.path.\n",
      "/usr/local/lib/python3.6/dist-packages/ipykernel_launcher.py:5: SettingWithCopyWarning: \n",
      "A value is trying to be set on a copy of a slice from a DataFrame.\n",
      "Try using .loc[row_indexer,col_indexer] = value instead\n",
      "\n",
      "See the caveats in the documentation: http://pandas.pydata.org/pandas-docs/stable/user_guide/indexing.html#returning-a-view-versus-a-copy\n",
      "  \"\"\"\n"
     ]
    }
   ],
   "source": [
    "finalDf['genres'] = finalDf['genres'].fillna('[]').apply(literal_eval).apply(lambda x: [removeStopWord(i['name']) for i in x] if isinstance(x, list) else [])\n",
    "finalDf['cast'] = finalDf['cast'].fillna('[]').apply(literal_eval).apply(lambda x: [removeStopWord(i['name']) for i in x] if isinstance(x, list) else [])\n",
    "finalDf['crew'] = finalDf['crew'].fillna('[]').apply(literal_eval).apply(lambda x: [removeStopWord(i['name']) for i in x] if isinstance(x, list) else [])\n",
    "finalDf['production_countries'] = finalDf['production_countries'].fillna('[]').apply(literal_eval).apply(lambda x: [removeStopWord(i['name']) for i in x] if isinstance(x, list) else [])\n",
    "finalDf['keywords'] = finalDf['keywords'].fillna('[]').apply(literal_eval).apply(lambda x: [removeStopWord(i['name']) for i in x] if isinstance(x, list) else [])"
   ]
  },
  {
   "cell_type": "code",
   "execution_count": 0,
   "metadata": {
    "colab": {
     "base_uri": "https://localhost:8080/",
     "height": 289
    },
    "colab_type": "code",
    "id": "cjg5z42DmPnA",
    "outputId": "a7fa862f-1988-4fc2-ad70-f12abad5f3e4"
   },
   "outputs": [
    {
     "data": {
      "text/html": [
       "<div>\n",
       "<style scoped>\n",
       "    .dataframe tbody tr th:only-of-type {\n",
       "        vertical-align: middle;\n",
       "    }\n",
       "\n",
       "    .dataframe tbody tr th {\n",
       "        vertical-align: top;\n",
       "    }\n",
       "\n",
       "    .dataframe thead th {\n",
       "        text-align: right;\n",
       "    }\n",
       "</style>\n",
       "<table border=\"1\" class=\"dataframe\">\n",
       "  <thead>\n",
       "    <tr style=\"text-align: right;\">\n",
       "      <th></th>\n",
       "      <th>id</th>\n",
       "      <th>title</th>\n",
       "      <th>genres</th>\n",
       "      <th>keywords</th>\n",
       "      <th>cast</th>\n",
       "      <th>crew</th>\n",
       "      <th>production_countries</th>\n",
       "      <th>rating</th>\n",
       "    </tr>\n",
       "  </thead>\n",
       "  <tbody>\n",
       "    <tr>\n",
       "      <th>0</th>\n",
       "      <td>8844</td>\n",
       "      <td>Jumanji</td>\n",
       "      <td>[adventure, fantasy, family]</td>\n",
       "      <td>[board game, disappearance, based children boo...</td>\n",
       "      <td>[robin williams, jonathan hyde, kirsten dunst,...</td>\n",
       "      <td>[larry j  franco, jonathan hensleigh, james ho...</td>\n",
       "      <td>[united states america]</td>\n",
       "      <td>4.0</td>\n",
       "    </tr>\n",
       "    <tr>\n",
       "      <th>1</th>\n",
       "      <td>949</td>\n",
       "      <td>Heat</td>\n",
       "      <td>[action, crime, drama, thriller]</td>\n",
       "      <td>[robbery, detective, bank, obsession, chase, s...</td>\n",
       "      <td>[al pacino, robert de niro, val kilmer, jon vo...</td>\n",
       "      <td>[michael mann, michael mann, art linson, micha...</td>\n",
       "      <td>[united states america]</td>\n",
       "      <td>4.0</td>\n",
       "    </tr>\n",
       "    <tr>\n",
       "      <th>2</th>\n",
       "      <td>1408</td>\n",
       "      <td>Cutthroat Island</td>\n",
       "      <td>[action, adventure]</td>\n",
       "      <td>[exotic island, treasure, map, ship, scalp, pi...</td>\n",
       "      <td>[geena davis, matthew modine, frank langella, ...</td>\n",
       "      <td>[peter levy, maggie gray, norman garwood, mari...</td>\n",
       "      <td>[france, germany, italy, united states america]</td>\n",
       "      <td>3.5</td>\n",
       "    </tr>\n",
       "    <tr>\n",
       "      <th>3</th>\n",
       "      <td>524</td>\n",
       "      <td>Casino</td>\n",
       "      <td>[drama, crime]</td>\n",
       "      <td>[poker, drug abuse, 1970s, overdose, illegal p...</td>\n",
       "      <td>[robert de niro, sharon stone, joe pesci, jame...</td>\n",
       "      <td>[martin scorsese, barbara de fina, robert rich...</td>\n",
       "      <td>[france, united states america]</td>\n",
       "      <td>4.0</td>\n",
       "    </tr>\n",
       "    <tr>\n",
       "      <th>4</th>\n",
       "      <td>8012</td>\n",
       "      <td>Get Shorty</td>\n",
       "      <td>[comedy, thriller, crime]</td>\n",
       "      <td>[gambling, miami, based novel, job, murder, tr...</td>\n",
       "      <td>[john travolta, gene hackman, rene russo, dann...</td>\n",
       "      <td>[barry sonnenfeld, elmore leonard, danny devit...</td>\n",
       "      <td>[united states america]</td>\n",
       "      <td>3.5</td>\n",
       "    </tr>\n",
       "  </tbody>\n",
       "</table>\n",
       "</div>"
      ],
      "text/plain": [
       "     id  ... rating\n",
       "0  8844  ...    4.0\n",
       "1   949  ...    4.0\n",
       "2  1408  ...    3.5\n",
       "3   524  ...    4.0\n",
       "4  8012  ...    3.5\n",
       "\n",
       "[5 rows x 8 columns]"
      ]
     },
     "execution_count": 24,
     "metadata": {
      "tags": []
     },
     "output_type": "execute_result"
    }
   ],
   "source": [
    "finalDf.head()"
   ]
  },
  {
   "cell_type": "markdown",
   "metadata": {
    "colab_type": "text",
    "id": "h1qCk8cC-u7F"
   },
   "source": [
    "#### Building Recommendation System\n",
    "\n",
    "The recommendation system is build by following following steps:\n",
    "\n",
    "Following set of feature combinations is used:\n",
    "1. Genre, Crew\n",
    "2. Crew, Keywords\n",
    "3. Genre ,Crew ,Production Countries\n",
    "4. Genre, Production Countries, Keywords\n",
    "5. Genre, Crew, Production Countries, Keywords\n",
    "\n",
    "Below Steps are followed for all combinations of features:\n",
    "1. Given dataset for a specific user is split into train - test ratio.\n",
    "2. Using the training data, where we have user rating corresponding to each movie vector, we train the regressor to predict user's ratings on movies from the test dataset.\n",
    "3. Now we have predicted user rating for movie i and average rating of movie by all the users. \n",
    "4. Using RMSE and MAE, we find the est set of features which is able to generalise the user's interests.\n",
    "\n",
    "Using the best set of features, we find cosine similarity between movies features. Using the below mentioned formula, we find rating of movie for a user.\n",
    "\n",
    "<a href=\"https://imgbb.com/\"><img src=\"https://i.ibb.co/vm4NK9C/Screenshot-from-2019-11-30-13-05-34.png\" alt=\"Screenshot-from-2019-11-30-13-05-34\" border=\"0\"></a>\n",
    "\n",
    "<a href=\"https://imgbb.com/\"><img src=\"https://i.ibb.co/98MbCQN/Screenshot-from-2019-11-30-13-09-58.png\" alt=\"Screenshot-from-2019-11-30-13-09-58\" border=\"0\"></a>\n",
    "\n",
    "Using predicted rating for each movie, we sort the best rated movies for user 'u' and recommend."
   ]
  },
  {
   "cell_type": "code",
   "execution_count": 0,
   "metadata": {
    "colab": {},
    "colab_type": "code",
    "id": "cL3NoB1TV-4S"
   },
   "outputs": [],
   "source": [
    "'''Dictionary for few combination of features'''\n",
    "\n",
    "feat = {0:['genres','crew'],\n",
    "        1:['Crew','keywords'],\n",
    "        2:['genres','crew','production_countries'],\n",
    "        3:['genres','production_countries','keywords'],\n",
    "        4:['genres','crew','production_countries','keywords']\n",
    "        }"
   ]
  },
  {
   "cell_type": "code",
   "execution_count": 0,
   "metadata": {
    "colab": {},
    "colab_type": "code",
    "id": "45R-p6_mKZ-b"
   },
   "outputs": [],
   "source": [
    "'''Running for all combination and calculating MAE and RMSE'''\n",
    "testrmse = []\n",
    "testmae = []\n",
    "trainrmse = []\n",
    "trainmae = []\n",
    "j=0\n",
    "for i in feat.values():\n",
    "    j+=1\n",
    "    # print('\\nFor: ',i)\n",
    "    vector = vectorForm(finalDf,i)\n",
    "    vector = vector.values\n",
    "    X = vector[:,:-1]\n",
    "    y = vector[:,-1]\n",
    "    y = y.astype(float)\n",
    "    print(X.shape)\n",
    "    X_train, X_test, y_train, y_test = train_test_split(X, y, test_size=0.2,shuffle=False)\n",
    "    X_tr, X_ts, y_tr, y_ts = train_test_split(X_train, y_train, test_size=0.2,shuffle=False)\n",
    "    clftst = KNeighborsRegressor(n_neighbors=5)\n",
    "    clftrn = KNeighborsRegressor(n_neighbors=5)\n",
    "    clftst.fit(X_train, y_train)\n",
    "    clftrn.fit(X_tr,y_tr)\n",
    "    predTest = clftst.predict(X_test)\n",
    "    predTrain = clftrn.predict(X_ts)\n",
    "    trm = mean_absolute_error(y_ts,predTrain)\n",
    "    trr = mean_squared_error(y_ts,predTrain)\n",
    "    tsm = mean_absolute_error(y_test,predTest)\n",
    "    tsr = mean_squared_error(y_test,predTest)\n",
    "    testrmse.append(np.sqrt(tsr))\n",
    "    testmae.append(tsm) \n",
    "    trainrmse.append(np.sqrt(trr))\n",
    "    trainmae.append(trm) \n",
    "    x.add_row([str(j), i, X.shape, trm, np.sqrt(trr),tsm, np.sqrt(tsr) ])"
   ]
  },
  {
   "cell_type": "code",
   "execution_count": 0,
   "metadata": {
    "colab": {},
    "colab_type": "code",
    "id": "CFNX2N-N5ZJk"
   },
   "outputs": [],
   "source": [
    "scoreDf.to_csv('Errors.csv',index=None) #Dumping errors in csv"
   ]
  },
  {
   "cell_type": "code",
   "execution_count": 0,
   "metadata": {
    "colab": {
     "base_uri": "https://localhost:8080/",
     "height": 457
    },
    "colab_type": "code",
    "id": "Qqw84lRypBIT",
    "outputId": "ff7faecb-d135-42bf-f7fa-a1c1783ceeec"
   },
   "outputs": [
    {
     "data": {
      "image/png": "[encoded data removed]",
      "text/plain": [
       "<Figure size 432x288 with 4 Axes>"
      ]
     },
     "metadata": {
      "tags": []
     },
     "output_type": "display_data"
    },
    {
     "name": "stdout",
     "output_type": "stream",
     "text": [
      "+---------------------------------------------+--------------+--------------+--------------+--------------+\n",
      "|                   Features                  |   Test MAE   |  Test RMSE   |  Train MAE   |  Train RMSE  |\n",
      "+---------------------------------------------+--------------+--------------+--------------+--------------+\n",
      "|                 Genre, Crew                 | 0.6829436039 | 0.8827476799 | 0.7599656357 | 0.9556038375 |\n",
      "|                Crew, Keywords               | 0.8418156809 | 1.036022444  | 0.9125429553 | 1.097067318  |\n",
      "|      Genre ,Crew ,Production Countries      | 0.7138927098 | 0.9162599656 | 0.776975945  | 0.9657538053 |\n",
      "|    Genre, Production Countries, Keywords    | 0.6777166437 | 0.8672158173 | 0.7374570447 | 0.9352398299 |\n",
      "| Genre, Crew, Production Countries, Keywords | 0.6905089409 | 0.8905587631 | 0.7451890034 | 0.9341828485 |\n",
      "+---------------------------------------------+--------------+--------------+--------------+--------------+\n"
     ]
    }
   ],
   "source": [
    "x = [1,2,3,4,5]\n",
    "ylbl = [0.0,0.2,0.4,0.6,0.8,1.0]\n",
    "error = pd.read_csv('Errors1.csv')\n",
    "\n",
    "fig, axs = plt.subplots(2, 2)\n",
    "axs[0, 0].bar(x,error['Train MAE'])\n",
    "axs[0, 0].set_title('MAE of 80% Train Data')\n",
    "axs[0, 1].bar(x,error['Test MAE'])\n",
    "axs[0, 1].set_title('MAE of 20% Test Data')\n",
    "axs[1, 0].bar(x,error['Train RMSE'])\n",
    "axs[1, 0].set_title('RMSE of 80% Train Data')\n",
    "axs[1, 1].bar(x,error['Test RMSE'])\n",
    "axs[1, 1].set_title('RMSE of 20% Test Data')\n",
    "\n",
    "for ax in axs.flat:\n",
    "    ax.set(xlabel='Feature Set', ylabel='Value')\n",
    "\n",
    "for ax in axs.flat:\n",
    "    ax.label_outer()\n",
    "plt.show()\n",
    "\n",
    "\n",
    "with open(\"Errors-S.csv\", \"r\") as fp: \n",
    "    x = from_csv(fp)\n",
    "print(x)"
   ]
  },
  {
   "cell_type": "markdown",
   "metadata": {
    "colab_type": "text",
    "id": "awzh0w_6lnwV"
   },
   "source": [
    "RMSE value close to 0 indicates that the regression model is able to generalise well. We take the set of attributes for which we get the lowest RMSE and MAE Errors. This our case, the required set of attriutes is: Genre, Production Countries, Keywords\n",
    "\n",
    "We can also see that Test RMSE and Train RMSE are almost equal. Thus we can conclude that our model doesn't overfit/ underfit on the data.\n",
    "\n"
   ]
  },
  {
   "cell_type": "markdown",
   "metadata": {
    "colab_type": "text",
    "id": "mk0zmPUIrkjw"
   },
   "source": [
    "> Choosing Best Set of features according to minimum error"
   ]
  },
  {
   "cell_type": "code",
   "execution_count": 0,
   "metadata": {
    "colab": {},
    "colab_type": "code",
    "id": "-U7XnWsdn_vM"
   },
   "outputs": [],
   "source": [
    "mmin = 1\n",
    "rmin = 1\n",
    "for i in range(len(testrmse)):\n",
    "    if(mmin > testmae[i] and rmin > testrmse[i]):\n",
    "        mmin = testmae[i]\n",
    "        rmin = testrmse[i]"
   ]
  },
  {
   "cell_type": "code",
   "execution_count": 0,
   "metadata": {
    "colab": {
     "base_uri": "https://localhost:8080/",
     "height": 34
    },
    "colab_type": "code",
    "id": "pu8y80uNqPL2",
    "outputId": "68a59b35-1c5c-45a5-e3b1-2a6be936b761"
   },
   "outputs": [
    {
     "name": "stdout",
     "output_type": "stream",
     "text": [
      "0.6777166437414031 0.8672158172725218\n"
     ]
    }
   ],
   "source": [
    "print(mmin,rmin)"
   ]
  },
  {
   "cell_type": "code",
   "execution_count": 0,
   "metadata": {
    "colab": {
     "base_uri": "https://localhost:8080/",
     "height": 34
    },
    "colab_type": "code",
    "id": "tRUoDno_qSL4",
    "outputId": "9f252d5a-732d-414c-e91c-37833ffd5340"
   },
   "outputs": [
    {
     "name": "stdout",
     "output_type": "stream",
     "text": [
      "['genres', 'production_countries', 'keywords']\n"
     ]
    }
   ],
   "source": [
    "bestFeat = feat[testmae.index(mmin)]\n",
    "print(bestFeat)"
   ]
  },
  {
   "cell_type": "code",
   "execution_count": 0,
   "metadata": {
    "colab": {},
    "colab_type": "code",
    "id": "O7UxXDgwra06"
   },
   "outputs": [],
   "source": [
    "bestFeatVector = vectorForm(finalDf,bestFeat)\n",
    "bestFeatVector.to_csv('BestFeatureVector.csv',index=None) #Dumpping best feature vector based on min MAE and RMSE to csv"
   ]
  },
  {
   "cell_type": "markdown",
   "metadata": {
    "colab_type": "text",
    "id": "TKzlh-Pu5Av4"
   },
   "source": [
    "> Cosine Similarity"
   ]
  },
  {
   "cell_type": "code",
   "execution_count": 0,
   "metadata": {
    "colab": {},
    "colab_type": "code",
    "id": "FSNecH-8nyfY"
   },
   "outputs": [],
   "source": [
    "bfv = pd.read_csv('BestFeatureVector.csv') #Dumpping best feature vector in csv\n",
    "simMatrix = cosine_similarity(bfv.values,bfv.values)\n",
    "pd.DataFrame(simMatrix).to_csv('cosSimScore.csv',index=None) #Dumpping similarity matrix in csv file\n",
    "simMatrix = pd.read_csv('cosSimScore.csv')\n",
    "# simMatrix.shape\n",
    "sim = simMatrix.values\n",
    "mu = round(bfv.rating.mean(),2) #Mean rating for user who has done max ratings\n",
    "X = bfv.iloc[:,bfv.columns!='rating']\n",
    "y = bfv.rating\n",
    "X_train, X_test, y_train, y_test = train_test_split(X, y, test_size=0.2,shuffle=False)"
   ]
  },
  {
   "cell_type": "markdown",
   "metadata": {
    "colab_type": "text",
    "id": "8Ch07RWGv5Qu"
   },
   "source": [
    "> Finding Recommendations "
   ]
  },
  {
   "cell_type": "code",
   "execution_count": 0,
   "metadata": {
    "colab": {
     "base_uri": "https://localhost:8080/",
     "height": 187
    },
    "colab_type": "code",
    "id": "Lr1Nam1J9WWQ",
    "outputId": "b75489d5-5b4c-4536-eb36-74c823631724"
   },
   "outputs": [
    {
     "data": {
      "text/plain": [
       "['Due cuori, una cappella',\n",
       " 'Samay: When Time Strikes',\n",
       " 'Virasat',\n",
       " 'The Last Relic',\n",
       " 'The Colour Out of Space',\n",
       " 'Shocking Asia',\n",
       " 'Koyla',\n",
       " 'The Incredible Kung Fu Master',\n",
       " 'The Mystery of Chess Boxing',\n",
       " 'Afterparty']"
      ]
     },
     "execution_count": 101,
     "metadata": {
      "tags": []
     },
     "output_type": "execute_result"
    }
   ],
   "source": [
    "recommend(X_test,y_test,sim,mu,finalDf.title,10)"
   ]
  }
 ],
 "metadata": {
  "accelerator": "GPU",
  "colab": {
   "collapsed_sections": [
    "Otj9c3ng-X0K",
    "wLr10efW-dEH",
    "aIfrY2KY-hMR",
    "G6khgEPC-nQa"
   ],
   "name": "CF based MuvRec.ipynb",
   "provenance": []
  },
  "kernelspec": {
   "display_name": "Python 3",
   "language": "python",
   "name": "python3"
  },
  "language_info": {
   "codemirror_mode": {
    "name": "ipython",
    "version": 3
   },
   "file_extension": ".py",
   "mimetype": "text/x-python",
   "name": "python",
   "nbconvert_exporter": "python",
   "pygments_lexer": "ipython3",
   "version": "3.7.4"
  },
  "latex_envs": {
   "LaTeX_envs_menu_present": true,
   "autoclose": false,
   "autocomplete": true,
   "bibliofile": "biblio.bib",
   "cite_by": "apalike",
   "current_citInitial": 1,
   "eqLabelWithNumbers": true,
   "eqNumInitial": 1,
   "hotkeys": {
    "equation": "Ctrl-E",
    "itemize": "Ctrl-I"
   },
   "labels_anchors": false,
   "latex_user_defs": false,
   "report_style_numbering": false,
   "user_envs_cfg": false
  }
 },
 "nbformat": 4,
 "nbformat_minor": 1
}
